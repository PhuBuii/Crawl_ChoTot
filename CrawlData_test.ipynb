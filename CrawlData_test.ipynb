{
 "cells": [
  {
   "cell_type": "code",
   "execution_count": 1,
   "metadata": {},
   "outputs": [],
   "source": [
    "import requests\n",
    "from bs4 import BeautifulSoup\n",
    "import pandas as pd"
   ]
  },
  {
   "cell_type": "code",
   "execution_count": 2,
   "metadata": {},
   "outputs": [],
   "source": [
    "df= pd.read_csv('./update_data.csv')"
   ]
  },
  {
   "cell_type": "code",
   "execution_count": 3,
   "metadata": {},
   "outputs": [
    {
     "data": {
      "text/html": [
       "<div>\n",
       "<style scoped>\n",
       "    .dataframe tbody tr th:only-of-type {\n",
       "        vertical-align: middle;\n",
       "    }\n",
       "\n",
       "    .dataframe tbody tr th {\n",
       "        vertical-align: top;\n",
       "    }\n",
       "\n",
       "    .dataframe thead th {\n",
       "        text-align: right;\n",
       "    }\n",
       "</style>\n",
       "<table border=\"1\" class=\"dataframe\">\n",
       "  <thead>\n",
       "    <tr style=\"text-align: right;\">\n",
       "      <th></th>\n",
       "      <th>href</th>\n",
       "      <th>Đối tác</th>\n",
       "    </tr>\n",
       "  </thead>\n",
       "  <tbody>\n",
       "    <tr>\n",
       "      <th>0</th>\n",
       "      <td>https://xe.chotot.com/mua-ban-oto-thanh-pho-th...</td>\n",
       "      <td>No</td>\n",
       "    </tr>\n",
       "    <tr>\n",
       "      <th>1</th>\n",
       "      <td>https://xe.chotot.com/mua-ban-oto-thanh-pho-th...</td>\n",
       "      <td>No</td>\n",
       "    </tr>\n",
       "    <tr>\n",
       "      <th>2</th>\n",
       "      <td>https://xe.chotot.com/mua-ban-oto-thanh-pho-th...</td>\n",
       "      <td>No</td>\n",
       "    </tr>\n",
       "    <tr>\n",
       "      <th>3</th>\n",
       "      <td>https://xe.chotot.com/mua-ban-oto-thanh-pho-th...</td>\n",
       "      <td>No</td>\n",
       "    </tr>\n",
       "    <tr>\n",
       "      <th>4</th>\n",
       "      <td>https://xe.chotot.com/mua-ban-oto-thanh-pho-th...</td>\n",
       "      <td>No</td>\n",
       "    </tr>\n",
       "    <tr>\n",
       "      <th>...</th>\n",
       "      <td>...</td>\n",
       "      <td>...</td>\n",
       "    </tr>\n",
       "    <tr>\n",
       "      <th>1985</th>\n",
       "      <td>https://xe.chotot.com/mua-ban-oto-thanh-pho-th...</td>\n",
       "      <td>No</td>\n",
       "    </tr>\n",
       "    <tr>\n",
       "      <th>1986</th>\n",
       "      <td>https://xe.chotot.com/mua-ban-oto-quan-tan-bin...</td>\n",
       "      <td>No</td>\n",
       "    </tr>\n",
       "    <tr>\n",
       "      <th>1987</th>\n",
       "      <td>https://xe.chotot.com/mua-ban-oto-huyen-trang-...</td>\n",
       "      <td>No</td>\n",
       "    </tr>\n",
       "    <tr>\n",
       "      <th>1988</th>\n",
       "      <td>https://xe.chotot.com/mua-ban-oto-quan-10-tp-h...</td>\n",
       "      <td>No</td>\n",
       "    </tr>\n",
       "    <tr>\n",
       "      <th>1989</th>\n",
       "      <td>https://xe.chotot.com/mua-ban-oto-quan-7-tp-ho...</td>\n",
       "      <td>Yes</td>\n",
       "    </tr>\n",
       "  </tbody>\n",
       "</table>\n",
       "<p>1990 rows × 2 columns</p>\n",
       "</div>"
      ],
      "text/plain": [
       "                                                   href Đối tác\n",
       "0     https://xe.chotot.com/mua-ban-oto-thanh-pho-th...      No\n",
       "1     https://xe.chotot.com/mua-ban-oto-thanh-pho-th...      No\n",
       "2     https://xe.chotot.com/mua-ban-oto-thanh-pho-th...      No\n",
       "3     https://xe.chotot.com/mua-ban-oto-thanh-pho-th...      No\n",
       "4     https://xe.chotot.com/mua-ban-oto-thanh-pho-th...      No\n",
       "...                                                 ...     ...\n",
       "1985  https://xe.chotot.com/mua-ban-oto-thanh-pho-th...      No\n",
       "1986  https://xe.chotot.com/mua-ban-oto-quan-tan-bin...      No\n",
       "1987  https://xe.chotot.com/mua-ban-oto-huyen-trang-...      No\n",
       "1988  https://xe.chotot.com/mua-ban-oto-quan-10-tp-h...      No\n",
       "1989  https://xe.chotot.com/mua-ban-oto-quan-7-tp-ho...     Yes\n",
       "\n",
       "[1990 rows x 2 columns]"
      ]
     },
     "execution_count": 3,
     "metadata": {},
     "output_type": "execute_result"
    }
   ],
   "source": [
    "df"
   ]
  },
  {
   "cell_type": "code",
   "execution_count": 4,
   "metadata": {},
   "outputs": [],
   "source": [
    "url = df['href'][0]"
   ]
  },
  {
   "cell_type": "code",
   "execution_count": 5,
   "metadata": {},
   "outputs": [
    {
     "data": {
      "text/plain": [
       "'https://xe.chotot.com/mua-ban-oto-thanh-pho-thu-duc-tp-ho-chi-minh/110137526.htm#px=SR-stickyad-[PO-1][PL-top]'"
      ]
     },
     "execution_count": 5,
     "metadata": {},
     "output_type": "execute_result"
    }
   ],
   "source": [
    "url"
   ]
  },
  {
   "cell_type": "code",
   "execution_count": 26,
   "metadata": {},
   "outputs": [],
   "source": [
    "column_names = [\n",
    "    'Hãng',\n",
    "    'Dòng xe',\n",
    "    'Năm sản xuất',\n",
    "    'Số Km đã đi',\n",
    "    'Tình trạng',\n",
    "    'Hộp số',\n",
    "    'Nhiên liệu',\n",
    "    'Kiểu dáng',\n",
    "    'Số chỗ',\n",
    "    'Xuất xứ',\n",
    "    'Chính sách bảo hành',\n",
    "    'Trọng lượng',\n",
    "    'Trọng tải'\n",
    "]"
   ]
  },
  {
   "cell_type": "code",
   "execution_count": 45,
   "metadata": {},
   "outputs": [],
   "source": [
    "def extract_data(detail_div, itemprop):\n",
    "    a_tag = detail_div.find('a', itemprop=itemprop)\n",
    "    return a_tag.text.strip() if a_tag else '-'"
   ]
  },
  {
   "cell_type": "code",
   "execution_count": 34,
   "metadata": {},
   "outputs": [],
   "source": [
    "itemprops=[\n",
    "    'carbrand',\n",
    "    'carmodel',\n",
    "    'mfdate',\n",
    "    'mileage_v2',\n",
    "    'condition_ad',\n",
    "    'gearbox',\n",
    "    'fuel',\n",
    "    'cartype',\n",
    "    'carseats',\n",
    "    'carorigin',\n",
    "    'veh_warranty_policy',\n",
    "    'veh_unladen_weight',\n",
    "    'veh_gross_weight'\n",
    "]"
   ]
  },
  {
   "cell_type": "code",
   "execution_count": 47,
   "metadata": {},
   "outputs": [
    {
     "ename": "ValueError",
     "evalue": "Shape of passed values is (1, 1), indices imply (1, 13)",
     "output_type": "error",
     "traceback": [
      "\u001b[1;31m---------------------------------------------------------------------------\u001b[0m",
      "\u001b[1;31mValueError\u001b[0m                                Traceback (most recent call last)",
      "\u001b[1;32mc:\\Users\\buiqu\\OneDrive\\Desktop\\Crawl_Car_Data\\CrawlData_test.ipynb Cell 9\u001b[0m line \u001b[0;36m1\n\u001b[0;32m     <a href='vscode-notebook-cell:/c%3A/Users/buiqu/OneDrive/Desktop/Crawl_Car_Data/CrawlData_test.ipynb#X13sZmlsZQ%3D%3D?line=11'>12</a>\u001b[0m \u001b[39melse\u001b[39;00m:\n\u001b[0;32m     <a href='vscode-notebook-cell:/c%3A/Users/buiqu/OneDrive/Desktop/Crawl_Car_Data/CrawlData_test.ipynb#X13sZmlsZQ%3D%3D?line=12'>13</a>\u001b[0m     \u001b[39mprint\u001b[39m(\u001b[39m\"\u001b[39m\u001b[39mKhông tìm thấy div với class \u001b[39m\u001b[39m'\u001b[39m\u001b[39mAdParam_adParamContainerVeh__Vz4Zt\u001b[39m\u001b[39m'\u001b[39m\u001b[39m.\u001b[39m\u001b[39m\"\u001b[39m)\n\u001b[1;32m---> <a href='vscode-notebook-cell:/c%3A/Users/buiqu/OneDrive/Desktop/Crawl_Car_Data/CrawlData_test.ipynb#X13sZmlsZQ%3D%3D?line=14'>15</a>\u001b[0m new_df \u001b[39m=\u001b[39m pd\u001b[39m.\u001b[39;49mDataFrame([extract_data], columns\u001b[39m=\u001b[39;49mcolumn_names)\n",
      "File \u001b[1;32mc:\\Program Files\\Python39\\lib\\site-packages\\pandas\\core\\frame.py:825\u001b[0m, in \u001b[0;36mDataFrame.__init__\u001b[1;34m(self, data, index, columns, dtype, copy)\u001b[0m\n\u001b[0;32m    817\u001b[0m         mgr \u001b[39m=\u001b[39m arrays_to_mgr(\n\u001b[0;32m    818\u001b[0m             arrays,\n\u001b[0;32m    819\u001b[0m             columns,\n\u001b[1;32m   (...)\u001b[0m\n\u001b[0;32m    822\u001b[0m             typ\u001b[39m=\u001b[39mmanager,\n\u001b[0;32m    823\u001b[0m         )\n\u001b[0;32m    824\u001b[0m     \u001b[39melse\u001b[39;00m:\n\u001b[1;32m--> 825\u001b[0m         mgr \u001b[39m=\u001b[39m ndarray_to_mgr(\n\u001b[0;32m    826\u001b[0m             data,\n\u001b[0;32m    827\u001b[0m             index,\n\u001b[0;32m    828\u001b[0m             columns,\n\u001b[0;32m    829\u001b[0m             dtype\u001b[39m=\u001b[39;49mdtype,\n\u001b[0;32m    830\u001b[0m             copy\u001b[39m=\u001b[39;49mcopy,\n\u001b[0;32m    831\u001b[0m             typ\u001b[39m=\u001b[39;49mmanager,\n\u001b[0;32m    832\u001b[0m         )\n\u001b[0;32m    833\u001b[0m \u001b[39melse\u001b[39;00m:\n\u001b[0;32m    834\u001b[0m     mgr \u001b[39m=\u001b[39m dict_to_mgr(\n\u001b[0;32m    835\u001b[0m         {},\n\u001b[0;32m    836\u001b[0m         index,\n\u001b[1;32m   (...)\u001b[0m\n\u001b[0;32m    839\u001b[0m         typ\u001b[39m=\u001b[39mmanager,\n\u001b[0;32m    840\u001b[0m     )\n",
      "File \u001b[1;32mc:\\Program Files\\Python39\\lib\\site-packages\\pandas\\core\\internals\\construction.py:336\u001b[0m, in \u001b[0;36mndarray_to_mgr\u001b[1;34m(values, index, columns, dtype, copy, typ)\u001b[0m\n\u001b[0;32m    331\u001b[0m \u001b[39m# _prep_ndarraylike ensures that values.ndim == 2 at this point\u001b[39;00m\n\u001b[0;32m    332\u001b[0m index, columns \u001b[39m=\u001b[39m _get_axes(\n\u001b[0;32m    333\u001b[0m     values\u001b[39m.\u001b[39mshape[\u001b[39m0\u001b[39m], values\u001b[39m.\u001b[39mshape[\u001b[39m1\u001b[39m], index\u001b[39m=\u001b[39mindex, columns\u001b[39m=\u001b[39mcolumns\n\u001b[0;32m    334\u001b[0m )\n\u001b[1;32m--> 336\u001b[0m _check_values_indices_shape_match(values, index, columns)\n\u001b[0;32m    338\u001b[0m \u001b[39mif\u001b[39;00m typ \u001b[39m==\u001b[39m \u001b[39m\"\u001b[39m\u001b[39marray\u001b[39m\u001b[39m\"\u001b[39m:\n\u001b[0;32m    339\u001b[0m     \u001b[39mif\u001b[39;00m \u001b[39missubclass\u001b[39m(values\u001b[39m.\u001b[39mdtype\u001b[39m.\u001b[39mtype, \u001b[39mstr\u001b[39m):\n",
      "File \u001b[1;32mc:\\Program Files\\Python39\\lib\\site-packages\\pandas\\core\\internals\\construction.py:420\u001b[0m, in \u001b[0;36m_check_values_indices_shape_match\u001b[1;34m(values, index, columns)\u001b[0m\n\u001b[0;32m    418\u001b[0m passed \u001b[39m=\u001b[39m values\u001b[39m.\u001b[39mshape\n\u001b[0;32m    419\u001b[0m implied \u001b[39m=\u001b[39m (\u001b[39mlen\u001b[39m(index), \u001b[39mlen\u001b[39m(columns))\n\u001b[1;32m--> 420\u001b[0m \u001b[39mraise\u001b[39;00m \u001b[39mValueError\u001b[39;00m(\u001b[39mf\u001b[39m\u001b[39m\"\u001b[39m\u001b[39mShape of passed values is \u001b[39m\u001b[39m{\u001b[39;00mpassed\u001b[39m}\u001b[39;00m\u001b[39m, indices imply \u001b[39m\u001b[39m{\u001b[39;00mimplied\u001b[39m}\u001b[39;00m\u001b[39m\"\u001b[39m)\n",
      "\u001b[1;31mValueError\u001b[0m: Shape of passed values is (1, 1), indices imply (1, 13)"
     ]
    }
   ],
   "source": [
    "response = requests.get(url)\n",
    "extract_data_list = []\n",
    "\n",
    "# Check if the request was successful\n",
    "if response.status_code == 200:\n",
    "    # Parse the HTML content of the page\n",
    "    soup = BeautifulSoup(response.text, 'html.parser')\n",
    "    div_element = soup.find('div', class_='AdParam_adParamContainerVeh__Vz4Zt')\n",
    "    if div_element:\n",
    "        # Extract data for each itemprop\n",
    "        extract_data_list = [extract_data(div_element, itemprop) for itemprop in itemprops]\n",
    "    else:\n",
    "        print(\"Không tìm thấy div với class 'AdParam_adParamContainerVeh__Vz4Zt'.\")\n",
    "    \n",
    "  new_df = pd.DataFrame([extract_data_list], columns=column_names)"
   ]
  },
  {
   "cell_type": "code",
   "execution_count": null,
   "metadata": {},
   "outputs": [],
   "source": [
    "if response.status_code == 200:\n",
    "    # Parse nội dung HTML\n",
    "    soup = BeautifulSoup(response.text, 'html.parser')\n",
    "\n",
    "    # Tìm thẻ div đầu tiên có class \"DetailViewAB_adviewItem__20YCA\"\n",
    "    div_element = soup.find('div', class_='AdParam_adParamContainerVeh__Vz4Zt')\n",
    "\n",
    "    if div_element:\n",
    "        # Tìm thẻ span với thuộc tính itemprop=\"price\" bên trong div_element\n",
    "        price_element = div_element.find('a', itemprop='carbrand')\n",
    "        if price_element:\n",
    "            # Lấy nội dung innerText của span\n",
    "            inner_text = price_element.get_text(strip=True)\n",
    "            print(\"Giá: \", inner_text)\n",
    "        else:\n",
    "            print(div_element)\n",
    "            print(\"Không tìm thấy thẻ span với itemprop='carbrand'.\")\n",
    "    else:\n",
    "        print(\"Không tìm thấy div với class 'DetailViewAB_adviewItem__20YCA'.\")\n",
    "else:\n",
    "    print(\"Lỗi: Yêu cầu không thành công. Mã trạng thái:\", response.status_code)"
   ]
  }
 ],
 "metadata": {
  "kernelspec": {
   "display_name": "Python 3",
   "language": "python",
   "name": "python3"
  },
  "language_info": {
   "codemirror_mode": {
    "name": "ipython",
    "version": 3
   },
   "file_extension": ".py",
   "mimetype": "text/x-python",
   "name": "python",
   "nbconvert_exporter": "python",
   "pygments_lexer": "ipython3",
   "version": "3.9.12"
  },
  "orig_nbformat": 4
 },
 "nbformat": 4,
 "nbformat_minor": 2
}
