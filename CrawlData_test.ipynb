{
 "cells": [
  {
   "cell_type": "code",
   "execution_count": 1,
   "metadata": {},
   "outputs": [],
   "source": [
    "import requests\n",
    "from bs4 import BeautifulSoup\n",
    "import pandas as pd"
   ]
  },
  {
   "cell_type": "code",
   "execution_count": 2,
   "metadata": {},
   "outputs": [],
   "source": [
    "df= pd.read_csv('./update_data.csv')"
   ]
  },
  {
   "cell_type": "code",
   "execution_count": 3,
   "metadata": {},
   "outputs": [
    {
     "data": {
      "text/html": [
       "<div>\n",
       "<style scoped>\n",
       "    .dataframe tbody tr th:only-of-type {\n",
       "        vertical-align: middle;\n",
       "    }\n",
       "\n",
       "    .dataframe tbody tr th {\n",
       "        vertical-align: top;\n",
       "    }\n",
       "\n",
       "    .dataframe thead th {\n",
       "        text-align: right;\n",
       "    }\n",
       "</style>\n",
       "<table border=\"1\" class=\"dataframe\">\n",
       "  <thead>\n",
       "    <tr style=\"text-align: right;\">\n",
       "      <th></th>\n",
       "      <th>Tiêu đề</th>\n",
       "      <th>Giá</th>\n",
       "      <th>Đối tác</th>\n",
       "      <th>href</th>\n",
       "    </tr>\n",
       "  </thead>\n",
       "  <tbody>\n",
       "    <tr>\n",
       "      <th>0</th>\n",
       "      <td>[OUTLANDER]Miễn thuế 100% + ưu đãi 2 năm BHVC</td>\n",
       "      <td>940.000.000 đ</td>\n",
       "      <td>No</td>\n",
       "      <td>https://xe.chotot.com/mua-ban-oto-thanh-pho-th...</td>\n",
       "    </tr>\n",
       "    <tr>\n",
       "      <th>1</th>\n",
       "      <td>MG5 số sàn nhập 2023 hỗ trợ vay 90% giá xe</td>\n",
       "      <td>79.000.000 đ</td>\n",
       "      <td>No</td>\n",
       "      <td>https://xe.chotot.com/mua-ban-oto-thanh-pho-th...</td>\n",
       "    </tr>\n",
       "    <tr>\n",
       "      <th>2</th>\n",
       "      <td>🇩🇪𝐗𝐞 𝐌𝐨̛́𝐢 𝐠𝐢𝐚́ 𝐋𝐮̛𝐨̛́𝐭 |𝐆𝐋𝐂 𝟑𝟎𝟎 𝐓𝐫𝐚̆́𝐧𝐠| 𝐂𝐡𝐢̉...</td>\n",
       "      <td>2.290.000.000 đ</td>\n",
       "      <td>No</td>\n",
       "      <td>https://xe.chotot.com/mua-ban-oto-thanh-pho-th...</td>\n",
       "    </tr>\n",
       "    <tr>\n",
       "      <th>3</th>\n",
       "      <td>LUX A bản tiêu chuẩn- xe mới 100% - hỗ trợ trả...</td>\n",
       "      <td>750.000.000 đ</td>\n",
       "      <td>No</td>\n",
       "      <td>https://xe.chotot.com/mua-ban-oto-thanh-pho-th...</td>\n",
       "    </tr>\n",
       "    <tr>\n",
       "      <th>4</th>\n",
       "      <td>Haval H6 Hybrid 2023 Nhập Thái Lan Hỗ Trợ Bank...</td>\n",
       "      <td>994.000.000 đ</td>\n",
       "      <td>No</td>\n",
       "      <td>https://xe.chotot.com/mua-ban-oto-thanh-pho-th...</td>\n",
       "    </tr>\n",
       "    <tr>\n",
       "      <th>...</th>\n",
       "      <td>...</td>\n",
       "      <td>...</td>\n",
       "      <td>...</td>\n",
       "      <td>...</td>\n",
       "    </tr>\n",
       "    <tr>\n",
       "      <th>1985</th>\n",
       "      <td>Thanh Lý Xe Ford Ecosport Titanium 1.5L 2018</td>\n",
       "      <td>376.000.000 đ</td>\n",
       "      <td>No</td>\n",
       "      <td>https://xe.chotot.com/mua-ban-oto-thanh-pho-th...</td>\n",
       "    </tr>\n",
       "    <tr>\n",
       "      <th>1986</th>\n",
       "      <td>Cho thuê xác xe 5c toyota vios tự động</td>\n",
       "      <td>11.000.000 đ</td>\n",
       "      <td>No</td>\n",
       "      <td>https://xe.chotot.com/mua-ban-oto-quan-tan-bin...</td>\n",
       "    </tr>\n",
       "    <tr>\n",
       "      <th>1987</th>\n",
       "      <td>deawoo matiz số tự động , đăng kiểm 1 năm</td>\n",
       "      <td>125.000.000 đ</td>\n",
       "      <td>No</td>\n",
       "      <td>https://xe.chotot.com/mua-ban-oto-huyen-trang-...</td>\n",
       "    </tr>\n",
       "    <tr>\n",
       "      <th>1988</th>\n",
       "      <td>Mazda 6 sx 2016 mới 90%</td>\n",
       "      <td>495.000.000 đ</td>\n",
       "      <td>No</td>\n",
       "      <td>https://xe.chotot.com/mua-ban-oto-quan-10-tp-h...</td>\n",
       "    </tr>\n",
       "    <tr>\n",
       "      <th>1989</th>\n",
       "      <td>CITY RS 2022/ ODO: 6.600 KM/ ĐỒ CHƠI NHƯ HÌNH/...</td>\n",
       "      <td>535.000.000 đ</td>\n",
       "      <td>Yes</td>\n",
       "      <td>https://xe.chotot.com/mua-ban-oto-quan-7-tp-ho...</td>\n",
       "    </tr>\n",
       "  </tbody>\n",
       "</table>\n",
       "<p>1990 rows × 4 columns</p>\n",
       "</div>"
      ],
      "text/plain": [
       "                                                Tiêu đề              Giá  \\\n",
       "0         [OUTLANDER]Miễn thuế 100% + ưu đãi 2 năm BHVC    940.000.000 đ   \n",
       "1            MG5 số sàn nhập 2023 hỗ trợ vay 90% giá xe     79.000.000 đ   \n",
       "2     🇩🇪𝐗𝐞 𝐌𝐨̛́𝐢 𝐠𝐢𝐚́ 𝐋𝐮̛𝐨̛́𝐭 |𝐆𝐋𝐂 𝟑𝟎𝟎 𝐓𝐫𝐚̆́𝐧𝐠| 𝐂𝐡𝐢̉...  2.290.000.000 đ   \n",
       "3     LUX A bản tiêu chuẩn- xe mới 100% - hỗ trợ trả...    750.000.000 đ   \n",
       "4     Haval H6 Hybrid 2023 Nhập Thái Lan Hỗ Trợ Bank...    994.000.000 đ   \n",
       "...                                                 ...              ...   \n",
       "1985       Thanh Lý Xe Ford Ecosport Titanium 1.5L 2018    376.000.000 đ   \n",
       "1986             Cho thuê xác xe 5c toyota vios tự động     11.000.000 đ   \n",
       "1987          deawoo matiz số tự động , đăng kiểm 1 năm    125.000.000 đ   \n",
       "1988                            Mazda 6 sx 2016 mới 90%    495.000.000 đ   \n",
       "1989  CITY RS 2022/ ODO: 6.600 KM/ ĐỒ CHƠI NHƯ HÌNH/...    535.000.000 đ   \n",
       "\n",
       "     Đối tác                                               href  \n",
       "0         No  https://xe.chotot.com/mua-ban-oto-thanh-pho-th...  \n",
       "1         No  https://xe.chotot.com/mua-ban-oto-thanh-pho-th...  \n",
       "2         No  https://xe.chotot.com/mua-ban-oto-thanh-pho-th...  \n",
       "3         No  https://xe.chotot.com/mua-ban-oto-thanh-pho-th...  \n",
       "4         No  https://xe.chotot.com/mua-ban-oto-thanh-pho-th...  \n",
       "...      ...                                                ...  \n",
       "1985      No  https://xe.chotot.com/mua-ban-oto-thanh-pho-th...  \n",
       "1986      No  https://xe.chotot.com/mua-ban-oto-quan-tan-bin...  \n",
       "1987      No  https://xe.chotot.com/mua-ban-oto-huyen-trang-...  \n",
       "1988      No  https://xe.chotot.com/mua-ban-oto-quan-10-tp-h...  \n",
       "1989     Yes  https://xe.chotot.com/mua-ban-oto-quan-7-tp-ho...  \n",
       "\n",
       "[1990 rows x 4 columns]"
      ]
     },
     "execution_count": 3,
     "metadata": {},
     "output_type": "execute_result"
    }
   ],
   "source": [
    "df"
   ]
  },
  {
   "cell_type": "code",
   "execution_count": 59,
   "metadata": {},
   "outputs": [],
   "source": [
    "url =' https://xe.chotot.com/mua-ban-oto-quan-tan-phu-tp-ho-chi-minh/110525485.htm'"
   ]
  },
  {
   "cell_type": "code",
   "execution_count": 60,
   "metadata": {},
   "outputs": [
    {
     "data": {
      "text/plain": [
       "' https://xe.chotot.com/mua-ban-oto-quan-tan-phu-tp-ho-chi-minh/110525485.htm'"
      ]
     },
     "execution_count": 60,
     "metadata": {},
     "output_type": "execute_result"
    }
   ],
   "source": [
    "url"
   ]
  },
  {
   "cell_type": "code",
   "execution_count": 61,
   "metadata": {},
   "outputs": [],
   "source": [
    "from selenium import webdriver\n",
    "from selenium.webdriver.common.by import By\n",
    "from selenium.webdriver.common.keys import Keys\n",
    "from selenium.webdriver.common.action_chains import ActionChains\n",
    "from selenium.webdriver.support.ui import WebDriverWait\n",
    "from selenium.webdriver.support import expected_conditions as EC"
   ]
  },
  {
   "cell_type": "code",
   "execution_count": 62,
   "metadata": {},
   "outputs": [],
   "source": [
    "driver = webdriver.Firefox()"
   ]
  },
  {
   "cell_type": "code",
   "execution_count": 63,
   "metadata": {},
   "outputs": [],
   "source": [
    "driver.get(url)"
   ]
  },
  {
   "cell_type": "code",
   "execution_count": 70,
   "metadata": {},
   "outputs": [],
   "source": [
    "button = WebDriverWait(driver, 10).until(EC.presence_of_element_located((By.CLASS_NAME, \"styles_button__SVZnw\")))\n",
    "button.click()"
   ]
  },
  {
   "cell_type": "code",
   "execution_count": 66,
   "metadata": {},
   "outputs": [],
   "source": [
    "page_source = driver.page_source\n",
    "soup = BeautifulSoup(page_source, 'html.parser')\n"
   ]
  },
  {
   "cell_type": "code",
   "execution_count": 67,
   "metadata": {},
   "outputs": [],
   "source": [
    "column_names = [\n",
    "    'Hãng',\n",
    "    'Dòng xe',\n",
    "    'Năm sản xuất',\n",
    "    'Số Km đã đi',\n",
    "    'Tình trạng',\n",
    "    'Hộp số',\n",
    "    'Nhiên liệu',\n",
    "    'Kiểu dáng',\n",
    "    'Số chỗ',\n",
    "    'Xuất xứ',\n",
    "    'Chính sách bảo hành',\n",
    "    'Trọng lượng',\n",
    "    'Trọng tải'\n",
    "]"
   ]
  },
  {
   "cell_type": "code",
   "execution_count": 68,
   "metadata": {},
   "outputs": [],
   "source": [
    "response = requests.get(url)"
   ]
  },
  {
   "cell_type": "code",
   "execution_count": 57,
   "metadata": {},
   "outputs": [],
   "source": [
    "itemprops=[\n",
    "    'carbrand',\n",
    "    'carmodel',\n",
    "    'mfdate',\n",
    "    'mileage_v2',\n",
    "    'condition_ad',\n",
    "    'gearbox',\n",
    "    'fuel',\n",
    "    'cartype',\n",
    "    'carseats',\n",
    "    'carorigin',\n",
    "    'veh_warranty_policy',\n",
    "    'veh_unladen_weight',\n",
    "    'veh_gross_weight'\n",
    "]"
   ]
  },
  {
   "cell_type": "code",
   "execution_count": 79,
   "metadata": {},
   "outputs": [],
   "source": [
    "\n",
    "extract_data_list = []\n",
    "def extract_data_with_a_tag(soup, itemprop):\n",
    "    element = soup.find('a', itemprop=itemprop)\n",
    "    if element:\n",
    "        return element.get_text(strip=True)\n",
    "    else:\n",
    "        return '-'\n",
    "def extract_data(soup, itemprop):\n",
    "    element = soup.find('span', itemprop=itemprop)\n",
    "    if element:\n",
    "        return element.get_text(strip=True)\n",
    "    else:\n",
    "        return '-'\n",
    "# Check if the request was successful\n",
    "if response.status_code == 200:\n",
    "    # Parse the HTML content of the page\n",
    "    #soup = BeautifulSoup(response.text, 'html.parser')\n",
    "    driver = webdriver.Firefox()\n",
    "    driver.get(url)\n",
    "    \n",
    "    button = WebDriverWait(driver, 10).until(EC.presence_of_element_located((By.CLASS_NAME, \"aw__s13upwxx\")))\n",
    "    button.click()\n",
    "    button = WebDriverWait(driver, 10).until(EC.presence_of_element_located((By.CLASS_NAME, \"styles_button__SVZnw\")))\n",
    "    button.click()\n",
    "    page_source = driver.page_source\n",
    "    soup = BeautifulSoup(page_source, 'html.parser')\n",
    "    div_element = soup.find('div', class_='AdParam_adParamContainerVeh__Vz4Zt')\n",
    "    if div_element:\n",
    "        carbrand_text = extract_data_with_a_tag(div_element, 'carbrand')\n",
    "        carmodel_text = extract_data_with_a_tag(div_element, 'carmodel')\n",
    "        Prodate_text = extract_data(div_element, 'mfdate')\n",
    "        KM_text = extract_data(div_element, 'mileage_v2')\n",
    "        Condition_text = extract_data(div_element, 'condition_ad')\n",
    "        Gear_text = extract_data(div_element, 'gearbox')\n",
    "        Fuel_text = extract_data(div_element, 'fuel')\n",
    "        cartype_text = extract_data(div_element, 'cartype')\n",
    "        carseats_text = extract_data(div_element, 'carseats')\n",
    "        carorigin_text = extract_data(div_element, 'carorigin')\n",
    "        veh_warranty_policy_text= extract_data(div_element, 'veh_warranty_policy')\n",
    "        veh_unladen_weight_text= extract_data(div_element, 'veh_unladen_weight')\n",
    "        veh_gross_weight_text = extract_data(div_element, 'veh_gross_weight')\n",
    "\n",
    "        extract_data = [carbrand_text,carmodel_text,Prodate_text,KM_text,Condition_text,\n",
    "                        Gear_text,Fuel_text,cartype_text,carseats_text,carorigin_text,\n",
    "                        veh_warranty_policy_text,veh_unladen_weight_text,veh_gross_weight_text]\n",
    "        new_df = pd.DataFrame([extract_data], columns=column_names)\n",
    "\n",
    "    else:\n",
    "        print(\"Không tìm thấy div với class 'AdParam_adParamContainerVeh__Vz4Zt'.\")"
   ]
  },
  {
   "cell_type": "code",
   "execution_count": 80,
   "metadata": {},
   "outputs": [
    {
     "data": {
      "text/html": [
       "<div>\n",
       "<style scoped>\n",
       "    .dataframe tbody tr th:only-of-type {\n",
       "        vertical-align: middle;\n",
       "    }\n",
       "\n",
       "    .dataframe tbody tr th {\n",
       "        vertical-align: top;\n",
       "    }\n",
       "\n",
       "    .dataframe thead th {\n",
       "        text-align: right;\n",
       "    }\n",
       "</style>\n",
       "<table border=\"1\" class=\"dataframe\">\n",
       "  <thead>\n",
       "    <tr style=\"text-align: right;\">\n",
       "      <th></th>\n",
       "      <th>Hãng</th>\n",
       "      <th>Dòng xe</th>\n",
       "      <th>Năm sản xuất</th>\n",
       "      <th>Số Km đã đi</th>\n",
       "      <th>Tình trạng</th>\n",
       "      <th>Hộp số</th>\n",
       "      <th>Nhiên liệu</th>\n",
       "      <th>Kiểu dáng</th>\n",
       "      <th>Số chỗ</th>\n",
       "      <th>Xuất xứ</th>\n",
       "      <th>Chính sách bảo hành</th>\n",
       "      <th>Trọng lượng</th>\n",
       "      <th>Trọng tải</th>\n",
       "    </tr>\n",
       "  </thead>\n",
       "  <tbody>\n",
       "    <tr>\n",
       "      <th>0</th>\n",
       "      <td>Ford</td>\n",
       "      <td>Ranger</td>\n",
       "      <td>2016</td>\n",
       "      <td>71000</td>\n",
       "      <td>Đã sử dụng</td>\n",
       "      <td>Số sàn</td>\n",
       "      <td>Dầu</td>\n",
       "      <td>Pick-up (bán tải)</td>\n",
       "      <td>5</td>\n",
       "      <td>Thái Lan</td>\n",
       "      <td>Bảo hành hãng</td>\n",
       "      <td>&gt; 1 tấn</td>\n",
       "      <td>&gt; 2 tấn</td>\n",
       "    </tr>\n",
       "  </tbody>\n",
       "</table>\n",
       "</div>"
      ],
      "text/plain": [
       "   Hãng Dòng xe Năm sản xuất Số Km đã đi  Tình trạng  Hộp số Nhiên liệu  \\\n",
       "0  Ford  Ranger         2016       71000  Đã sử dụng  Số sàn        Dầu   \n",
       "\n",
       "           Kiểu dáng Số chỗ   Xuất xứ Chính sách bảo hành Trọng lượng  \\\n",
       "0  Pick-up (bán tải)      5  Thái Lan       Bảo hành hãng     > 1 tấn   \n",
       "\n",
       "  Trọng tải  \n",
       "0   > 2 tấn  "
      ]
     },
     "execution_count": 80,
     "metadata": {},
     "output_type": "execute_result"
    }
   ],
   "source": [
    "new_df"
   ]
  }
 ],
 "metadata": {
  "kernelspec": {
   "display_name": "Python 3",
   "language": "python",
   "name": "python3"
  },
  "language_info": {
   "codemirror_mode": {
    "name": "ipython",
    "version": 3
   },
   "file_extension": ".py",
   "mimetype": "text/x-python",
   "name": "python",
   "nbconvert_exporter": "python",
   "pygments_lexer": "ipython3",
   "version": "3.9.12"
  },
  "orig_nbformat": 4
 },
 "nbformat": 4,
 "nbformat_minor": 2
}
