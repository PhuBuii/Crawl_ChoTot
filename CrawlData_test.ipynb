{
 "cells": [
  {
   "cell_type": "code",
   "execution_count": 1,
   "metadata": {},
   "outputs": [],
   "source": [
    "import requests\n",
    "from bs4 import BeautifulSoup\n",
    "import pandas as pd"
   ]
  },
  {
   "cell_type": "code",
   "execution_count": 2,
   "metadata": {},
   "outputs": [],
   "source": [
    "df= pd.read_csv('./CarPricePrediction.csv')"
   ]
  },
  {
   "cell_type": "code",
   "execution_count": 7,
   "metadata": {},
   "outputs": [
    {
     "data": {
      "text/plain": [
       "'-'"
      ]
     },
     "execution_count": 7,
     "metadata": {},
     "output_type": "execute_result"
    }
   ],
   "source": [
    "df['Chủ'][7]\n"
   ]
  },
  {
   "cell_type": "code",
   "execution_count": 30,
   "metadata": {},
   "outputs": [],
   "source": [
    "url =df['href'][0]"
   ]
  },
  {
   "cell_type": "code",
   "execution_count": 31,
   "metadata": {},
   "outputs": [
    {
     "data": {
      "text/plain": [
       "'https://xe.chotot.com/mua-ban-oto-quan-long-bien-ha-noi/107561832.htm#px=SR-stickyad-[PO-1][PL-top]'"
      ]
     },
     "execution_count": 31,
     "metadata": {},
     "output_type": "execute_result"
    }
   ],
   "source": [
    "url"
   ]
  },
  {
   "cell_type": "code",
   "execution_count": 32,
   "metadata": {},
   "outputs": [],
   "source": [
    "from selenium import webdriver\n",
    "from selenium.webdriver.common.by import By\n",
    "from selenium.webdriver.common.keys import Keys\n",
    "from selenium.webdriver.common.action_chains import ActionChains\n",
    "from selenium.webdriver.support.ui import WebDriverWait\n",
    "from selenium.webdriver.support import expected_conditions as EC"
   ]
  },
  {
   "cell_type": "code",
   "execution_count": 33,
   "metadata": {},
   "outputs": [],
   "source": [
    "driver = webdriver.Firefox()"
   ]
  },
  {
   "cell_type": "code",
   "execution_count": 29,
   "metadata": {},
   "outputs": [],
   "source": [
    "driver.quit()"
   ]
  },
  {
   "cell_type": "code",
   "execution_count": 34,
   "metadata": {},
   "outputs": [],
   "source": [
    "driver.get(url)"
   ]
  },
  {
   "cell_type": "code",
   "execution_count": 35,
   "metadata": {},
   "outputs": [],
   "source": [
    "button = WebDriverWait(driver, 10).until(EC.presence_of_element_located((By.CLASS_NAME, \"aw__s13upwxx\")))\n",
    "button.click()"
   ]
  },
  {
   "cell_type": "code",
   "execution_count": 36,
   "metadata": {},
   "outputs": [],
   "source": [
    "button = WebDriverWait(driver, 10).until(EC.presence_of_element_located((By.CLASS_NAME, \"styles_button__SVZnw\")))\n",
    "button.click()"
   ]
  },
  {
   "cell_type": "code",
   "execution_count": 37,
   "metadata": {},
   "outputs": [],
   "source": [
    "page_source = driver.page_source\n",
    "soup = BeautifulSoup(page_source, 'html.parser')\n"
   ]
  },
  {
   "cell_type": "code",
   "execution_count": 38,
   "metadata": {},
   "outputs": [],
   "source": [
    "owner_element = soup.find('div', class_='SellerProfile_statusOnlineDivVeh__kgmx4') \n",
    "if owner_element:\n",
    "    owner_text = owner_element.get_text(strip=True)\n",
    "else: \n",
    "    owner_text= '-'"
   ]
  },
  {
   "cell_type": "code",
   "execution_count": 39,
   "metadata": {},
   "outputs": [
    {
     "data": {
      "text/plain": [
       "'Bán chuyên'"
      ]
     },
     "execution_count": 39,
     "metadata": {},
     "output_type": "execute_result"
    }
   ],
   "source": [
    "owner_text"
   ]
  },
  {
   "cell_type": "code",
   "execution_count": 14,
   "metadata": {},
   "outputs": [],
   "source": [
    "column_names = ['Chủ','Địa chỉ',\n",
    "    'Hãng',\n",
    "    'Dòng xe',\n",
    "    'Năm sản xuất',\n",
    "    'Số Km đã đi',\n",
    "    'Tình trạng',\n",
    "    'Hộp số',\n",
    "    'Nhiên liệu',\n",
    "    'Kiểu dáng',\n",
    "    'Số chỗ',\n",
    "    'Xuất xứ',\n",
    "    'Chính sách bảo hành',\n",
    "    'Trọng lượng',\n",
    "    'Trọng tải'\n",
    "]"
   ]
  },
  {
   "cell_type": "code",
   "execution_count": 12,
   "metadata": {},
   "outputs": [],
   "source": [
    "response = requests.get(url)"
   ]
  },
  {
   "cell_type": "code",
   "execution_count": 20,
   "metadata": {},
   "outputs": [],
   "source": [
    "itemprops=[\n",
    "    'carbrand',\n",
    "    'carmodel',\n",
    "    'mfdate',\n",
    "    'mileage_v2',\n",
    "    'condition_ad',\n",
    "    'gearbox',\n",
    "    'fuel',\n",
    "    'cartype',\n",
    "    'carseats',\n",
    "    'carorigin',\n",
    "    'veh_warranty_policy',\n",
    "    'veh_unladen_weight',\n",
    "    'veh_gross_weight'\n",
    "]"
   ]
  },
  {
   "cell_type": "code",
   "execution_count": 13,
   "metadata": {},
   "outputs": [
    {
     "ename": "InvalidArgumentException",
     "evalue": "Message: unexpected end of hex escape at line 1 column 141218\n",
     "output_type": "error",
     "traceback": [
      "\u001b[0;31m---------------------------------------------------------------------------\u001b[0m",
      "\u001b[0;31mInvalidArgumentException\u001b[0m                  Traceback (most recent call last)",
      "\u001b[1;32m/Users/buiquangphu/Documents/Work_space/Crawl_ChoTot/CrawlData_test.ipynb Cell 15\u001b[0m line \u001b[0;36m2\n\u001b[1;32m     <a href='vscode-notebook-cell:/Users/buiquangphu/Documents/Work_space/Crawl_ChoTot/CrawlData_test.ipynb#X20sZmlsZQ%3D%3D?line=22'>23</a>\u001b[0m button \u001b[39m=\u001b[39m WebDriverWait(driver, \u001b[39m10\u001b[39m)\u001b[39m.\u001b[39muntil(EC\u001b[39m.\u001b[39mpresence_of_element_located((By\u001b[39m.\u001b[39mCLASS_NAME, \u001b[39m\"\u001b[39m\u001b[39mstyles_button__SVZnw\u001b[39m\u001b[39m\"\u001b[39m)))\n\u001b[1;32m     <a href='vscode-notebook-cell:/Users/buiquangphu/Documents/Work_space/Crawl_ChoTot/CrawlData_test.ipynb#X20sZmlsZQ%3D%3D?line=23'>24</a>\u001b[0m button\u001b[39m.\u001b[39mclick()\n\u001b[0;32m---> <a href='vscode-notebook-cell:/Users/buiquangphu/Documents/Work_space/Crawl_ChoTot/CrawlData_test.ipynb#X20sZmlsZQ%3D%3D?line=24'>25</a>\u001b[0m page_source \u001b[39m=\u001b[39m driver\u001b[39m.\u001b[39;49mpage_source\n\u001b[1;32m     <a href='vscode-notebook-cell:/Users/buiquangphu/Documents/Work_space/Crawl_ChoTot/CrawlData_test.ipynb#X20sZmlsZQ%3D%3D?line=25'>26</a>\u001b[0m soup \u001b[39m=\u001b[39m BeautifulSoup(page_source, \u001b[39m'\u001b[39m\u001b[39mhtml.parser\u001b[39m\u001b[39m'\u001b[39m)\n\u001b[1;32m     <a href='vscode-notebook-cell:/Users/buiquangphu/Documents/Work_space/Crawl_ChoTot/CrawlData_test.ipynb#X20sZmlsZQ%3D%3D?line=26'>27</a>\u001b[0m location_element \u001b[39m=\u001b[39m soup\u001b[39m.\u001b[39mfind(\u001b[39m'\u001b[39m\u001b[39mspan\u001b[39m\u001b[39m'\u001b[39m, class_\u001b[39m=\u001b[39m\u001b[39m'\u001b[39m\u001b[39mfz13\u001b[39m\u001b[39m'\u001b[39m) \n",
      "File \u001b[0;32m/Library/Frameworks/Python.framework/Versions/3.10/lib/python3.10/site-packages/selenium/webdriver/remote/webdriver.py:445\u001b[0m, in \u001b[0;36mWebDriver.page_source\u001b[0;34m(self)\u001b[0m\n\u001b[1;32m    436\u001b[0m \u001b[39m@property\u001b[39m\n\u001b[1;32m    437\u001b[0m \u001b[39mdef\u001b[39;00m \u001b[39mpage_source\u001b[39m(\u001b[39mself\u001b[39m) \u001b[39m-\u001b[39m\u001b[39m>\u001b[39m \u001b[39mstr\u001b[39m:\n\u001b[1;32m    438\u001b[0m \u001b[39m    \u001b[39m\u001b[39m\"\"\"Gets the source of the current page.\u001b[39;00m\n\u001b[1;32m    439\u001b[0m \n\u001b[1;32m    440\u001b[0m \u001b[39m    :Usage:\u001b[39;00m\n\u001b[0;32m   (...)\u001b[0m\n\u001b[1;32m    443\u001b[0m \u001b[39m            driver.page_source\u001b[39;00m\n\u001b[1;32m    444\u001b[0m \u001b[39m    \"\"\"\u001b[39;00m\n\u001b[0;32m--> 445\u001b[0m     \u001b[39mreturn\u001b[39;00m \u001b[39mself\u001b[39;49m\u001b[39m.\u001b[39;49mexecute(Command\u001b[39m.\u001b[39;49mGET_PAGE_SOURCE)[\u001b[39m\"\u001b[39m\u001b[39mvalue\u001b[39m\u001b[39m\"\u001b[39m]\n",
      "File \u001b[0;32m/Library/Frameworks/Python.framework/Versions/3.10/lib/python3.10/site-packages/selenium/webdriver/remote/webdriver.py:344\u001b[0m, in \u001b[0;36mWebDriver.execute\u001b[0;34m(self, driver_command, params)\u001b[0m\n\u001b[1;32m    342\u001b[0m response \u001b[39m=\u001b[39m \u001b[39mself\u001b[39m\u001b[39m.\u001b[39mcommand_executor\u001b[39m.\u001b[39mexecute(driver_command, params)\n\u001b[1;32m    343\u001b[0m \u001b[39mif\u001b[39;00m response:\n\u001b[0;32m--> 344\u001b[0m     \u001b[39mself\u001b[39;49m\u001b[39m.\u001b[39;49merror_handler\u001b[39m.\u001b[39;49mcheck_response(response)\n\u001b[1;32m    345\u001b[0m     response[\u001b[39m\"\u001b[39m\u001b[39mvalue\u001b[39m\u001b[39m\"\u001b[39m] \u001b[39m=\u001b[39m \u001b[39mself\u001b[39m\u001b[39m.\u001b[39m_unwrap_value(response\u001b[39m.\u001b[39mget(\u001b[39m\"\u001b[39m\u001b[39mvalue\u001b[39m\u001b[39m\"\u001b[39m, \u001b[39mNone\u001b[39;00m))\n\u001b[1;32m    346\u001b[0m     \u001b[39mreturn\u001b[39;00m response\n",
      "File \u001b[0;32m/Library/Frameworks/Python.framework/Versions/3.10/lib/python3.10/site-packages/selenium/webdriver/remote/errorhandler.py:229\u001b[0m, in \u001b[0;36mErrorHandler.check_response\u001b[0;34m(self, response)\u001b[0m\n\u001b[1;32m    227\u001b[0m         alert_text \u001b[39m=\u001b[39m value[\u001b[39m\"\u001b[39m\u001b[39malert\u001b[39m\u001b[39m\"\u001b[39m]\u001b[39m.\u001b[39mget(\u001b[39m\"\u001b[39m\u001b[39mtext\u001b[39m\u001b[39m\"\u001b[39m)\n\u001b[1;32m    228\u001b[0m     \u001b[39mraise\u001b[39;00m exception_class(message, screen, stacktrace, alert_text)  \u001b[39m# type: ignore[call-arg]  # mypy is not smart enough here\u001b[39;00m\n\u001b[0;32m--> 229\u001b[0m \u001b[39mraise\u001b[39;00m exception_class(message, screen, stacktrace)\n",
      "\u001b[0;31mInvalidArgumentException\u001b[0m: Message: unexpected end of hex escape at line 1 column 141218\n"
     ]
    }
   ],
   "source": [
    "\n",
    "extract_data_list = []\n",
    "def extract_data_with_a_tag(soup, itemprop):\n",
    "    element = soup.find('a', itemprop=itemprop)\n",
    "    if element:\n",
    "        return element.get_text(strip=True)\n",
    "    else:\n",
    "        return '-'\n",
    "def extract_data(soup, itemprop):\n",
    "    element = soup.find('span', itemprop=itemprop)\n",
    "    if element:\n",
    "        return element.get_text(strip=True)\n",
    "    else:\n",
    "        return '-'\n",
    "# Check if the request was successful\n",
    "if response.status_code == 200:\n",
    "    # Parse the HTML content of the page\n",
    "    #soup = BeautifulSoup(response.text, 'html.parser')\n",
    "    driver = webdriver.Firefox()\n",
    "    driver.get(url)\n",
    "    \n",
    "    button = WebDriverWait(driver, 10).until(EC.presence_of_element_located((By.CLASS_NAME, \"aw__s13upwxx\")))\n",
    "    button.click()\n",
    "    button = WebDriverWait(driver, 10).until(EC.presence_of_element_located((By.CLASS_NAME, \"styles_button__SVZnw\")))\n",
    "    button.click()\n",
    "    page_source = driver.page_source\n",
    "    soup = BeautifulSoup(page_source, 'html.parser')\n",
    "    location_element = soup.find('span', class_='fz13') \n",
    "    if location_element:\n",
    "        location_text = location_element.get_text(strip=True)\n",
    "    else: \n",
    "        location_text= '-'\n",
    "    owner_element = soup.find('b', role='presentation') \n",
    "    if owner_element:\n",
    "        owner_text = owner_element.get_text(strip=True)\n",
    "    else: \n",
    "        owner_text= '-'\n",
    "    div_element = soup.find('div', class_='AdParam_adParamContainerVeh__Vz4Zt')\n",
    "    if div_element:\n",
    "        carbrand_text = extract_data_with_a_tag(div_element, 'carbrand')\n",
    "        carmodel_text = extract_data_with_a_tag(div_element, 'carmodel')\n",
    "        Prodate_text = extract_data(div_element, 'mfdate')\n",
    "        KM_text = extract_data(div_element, 'mileage_v2')\n",
    "        Condition_text = extract_data(div_element, 'condition_ad')\n",
    "        Gear_text = extract_data(div_element, 'gearbox')\n",
    "        Fuel_text = extract_data(div_element, 'fuel')\n",
    "        cartype_text = extract_data(div_element, 'cartype')\n",
    "        carseats_text = extract_data(div_element, 'carseats')\n",
    "        carorigin_text = extract_data(div_element, 'carorigin')\n",
    "        veh_warranty_policy_text= extract_data(div_element, 'veh_warranty_policy')\n",
    "        veh_unladen_weight_text= extract_data(div_element, 'veh_unladen_weight')\n",
    "        veh_gross_weight_text = extract_data(div_element, 'veh_gross_weight')\n",
    "\n",
    "        extract_data = [owner_text,location_text,carbrand_text,carmodel_text,Prodate_text,KM_text,Condition_text,\n",
    "                        Gear_text,Fuel_text,cartype_text,carseats_text,carorigin_text,\n",
    "                        veh_warranty_policy_text,veh_unladen_weight_text,veh_gross_weight_text]\n",
    "        new_df = pd.DataFrame([extract_data], columns=column_names)\n",
    "\n",
    "    else:\n",
    "        print(\"Không tìm thấy div với class 'AdParam_adParamContainerVeh__Vz4Zt'.\")\n",
    "driver.quit()\n",
    "\n",
    "\n"
   ]
  },
  {
   "cell_type": "code",
   "execution_count": 29,
   "metadata": {},
   "outputs": [
    {
     "data": {
      "text/html": [
       "<div>\n",
       "<style scoped>\n",
       "    .dataframe tbody tr th:only-of-type {\n",
       "        vertical-align: middle;\n",
       "    }\n",
       "\n",
       "    .dataframe tbody tr th {\n",
       "        vertical-align: top;\n",
       "    }\n",
       "\n",
       "    .dataframe thead th {\n",
       "        text-align: right;\n",
       "    }\n",
       "</style>\n",
       "<table border=\"1\" class=\"dataframe\">\n",
       "  <thead>\n",
       "    <tr style=\"text-align: right;\">\n",
       "      <th></th>\n",
       "      <th>Chủ</th>\n",
       "      <th>Địa chỉ</th>\n",
       "      <th>Hãng</th>\n",
       "      <th>Dòng xe</th>\n",
       "      <th>Năm sản xuất</th>\n",
       "      <th>Số Km đã đi</th>\n",
       "      <th>Tình trạng</th>\n",
       "      <th>Hộp số</th>\n",
       "      <th>Nhiên liệu</th>\n",
       "      <th>Kiểu dáng</th>\n",
       "      <th>Số chỗ</th>\n",
       "      <th>Xuất xứ</th>\n",
       "      <th>Chính sách bảo hành</th>\n",
       "      <th>Trọng lượng</th>\n",
       "      <th>Trọng tải</th>\n",
       "    </tr>\n",
       "  </thead>\n",
       "  <tbody>\n",
       "    <tr>\n",
       "      <th>0</th>\n",
       "      <td>Ford Bến Thành - Xe đã qua sử dụng</td>\n",
       "      <td>39 Chế Lan Viên, Phường Tây Thạnh, Quận Tân Ph...</td>\n",
       "      <td>Ford</td>\n",
       "      <td>Ranger</td>\n",
       "      <td>2016</td>\n",
       "      <td>71000</td>\n",
       "      <td>Đã sử dụng</td>\n",
       "      <td>Số sàn</td>\n",
       "      <td>Dầu</td>\n",
       "      <td>Pick-up (bán tải)</td>\n",
       "      <td>5</td>\n",
       "      <td>Thái Lan</td>\n",
       "      <td>Bảo hành hãng</td>\n",
       "      <td>&gt; 1 tấn</td>\n",
       "      <td>&gt; 2 tấn</td>\n",
       "    </tr>\n",
       "  </tbody>\n",
       "</table>\n",
       "</div>"
      ],
      "text/plain": [
       "                                  Chủ  \\\n",
       "0  Ford Bến Thành - Xe đã qua sử dụng   \n",
       "\n",
       "                                             Địa chỉ  Hãng Dòng xe  \\\n",
       "0  39 Chế Lan Viên, Phường Tây Thạnh, Quận Tân Ph...  Ford  Ranger   \n",
       "\n",
       "  Năm sản xuất Số Km đã đi  Tình trạng  Hộp số Nhiên liệu          Kiểu dáng  \\\n",
       "0         2016       71000  Đã sử dụng  Số sàn        Dầu  Pick-up (bán tải)   \n",
       "\n",
       "  Số chỗ   Xuất xứ Chính sách bảo hành Trọng lượng Trọng tải  \n",
       "0      5  Thái Lan       Bảo hành hãng     > 1 tấn   > 2 tấn  "
      ]
     },
     "execution_count": 29,
     "metadata": {},
     "output_type": "execute_result"
    }
   ],
   "source": [
    "new_df"
   ]
  }
 ],
 "metadata": {
  "kernelspec": {
   "display_name": "Python 3",
   "language": "python",
   "name": "python3"
  },
  "language_info": {
   "codemirror_mode": {
    "name": "ipython",
    "version": 3
   },
   "file_extension": ".py",
   "mimetype": "text/x-python",
   "name": "python",
   "nbconvert_exporter": "python",
   "pygments_lexer": "ipython3",
   "version": "3.10.9"
  },
  "orig_nbformat": 4
 },
 "nbformat": 4,
 "nbformat_minor": 2
}
